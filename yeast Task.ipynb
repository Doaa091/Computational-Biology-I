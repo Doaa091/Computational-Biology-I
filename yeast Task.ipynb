{
 "cells": [
  {
   "cell_type": "code",
   "execution_count": 1,
   "id": "f610dbee",
   "metadata": {},
   "outputs": [],
   "source": [
    "from pyopenms import *"
   ]
  },
  {
   "cell_type": "code",
   "execution_count": 2,
   "id": "1d8f8c6e",
   "metadata": {},
   "outputs": [
    {
     "name": "stdout",
     "output_type": "stream",
     "text": [
      "MVSANGDLHLPISNEQCMPENNGSLGFEAPTPR\n",
      "QILR\n",
      "VTLNLK\n",
      "YLIDK\n",
      "VVPIVYDPNDIVCDHSEILSPK\n",
      "VVK\n",
      "LAYEACGGNPK\n",
      "DK\n",
      "ANK\n",
      "R\n",
      "K\n",
      "YQSVIIFSLLK\n",
      "VCEWYSILATMEVHNAK\n",
      "LYETR\n",
      "NLASQQLCK\n",
      "LLIER\n",
      "EETR\n",
      "DLQFLFMQLLLR\n",
      "R\n",
      "YVINENDEDQEPLNALELATDMHCTTVIGSSGFQR\n",
      "CLK\n",
      "WIWR\n",
      "GWIVQNGLDPTTFIK\n",
      "DDSLAEVSLISHFNPVR\n",
      "LK\n",
      "APVYQNYLQMIFSFLFLGLYTLVVNGK\n",
      "DSER\n",
      "VQSFDLLESIFYVFNTGFILDELTK\n",
      "LYYIGYAHLSFWNLFNDTTYLIITFAMGFR\n",
      "AMSVTPLNAK\n",
      "YSSEDWDK\n",
      "ISYR\n",
      "VLSCAAPFVWSR\n",
      "LLLYLESQR\n",
      "FIGIMLVILK\n",
      "HMMK\n",
      "ESIVFFFLLFLIMIGFTQGFLGLDSADGK\n",
      "R\n",
      "DITGPILGNLTITVLGLGSFDVFEEFAPPYAAILYYGYYFIVSVILLNILIALYSTAYQK\n",
      "VIDNADDEYMALMSQK\n",
      "TLR\n",
      "YIR\n",
      "APDEDVYVSPLNLIEVFMTPIFR\n",
      "ILPPK\n",
      "R\n",
      "AK\n",
      "DLSYTVMTIVYSPFLLLISVK\n",
      "ETR\n",
      "EAR\n",
      "R\n",
      "IK\n",
      "YNR\n",
      "MK\n",
      "R\n",
      "LNDDANEYDTPWDLTDGYLDDDDGLFSDNR\n",
      "NSGMR\n",
      "ATQLK\n",
      "NSR\n",
      "SLK\n",
      "LQR\n",
      "TAEQEDVHFK\n",
      "VPK\n",
      "K\n",
      "WYK\n",
      "NVK\n",
      "K\n",
      "CSPSFEQYDNDDTEDDAGEDK\n",
      "DEVK\n",
      "ELTK\n",
      "K\n",
      "VENLTAVITDLLEK\n",
      "LDIK\n",
      "DK\n",
      "K\n",
      "E\n"
     ]
    }
   ],
   "source": [
    "dig = ProteaseDigestion()\n",
    "dig.getEnzymeName()\n",
    "seq = \"\".join([l.strip() for l in open(\"uniprot-yourlist_M20211212F248CABF64506F29A91F8037F07B67D135F259W.fasta\").readlines()[1:]])\n",
    "seq = AASequence.fromString(seq)\n",
    "result = []\n",
    "dig.digest(seq, result)\n",
    "for i in result:\n",
    "    print(i)"
   ]
  },
  {
   "cell_type": "code",
   "execution_count": 5,
   "id": "a9e37f8b",
   "metadata": {},
   "outputs": [
    {
     "name": "stdout",
     "output_type": "stream",
     "text": [
      "VVPIVYDPNDIVCDHSEILSPK\n"
     ]
    },
    {
     "data": {
      "text/plain": [
       "75"
      ]
     },
     "execution_count": 5,
     "metadata": {},
     "output_type": "execute_result"
    }
   ],
   "source": [
    "result = []\n",
    "dig.digest(seq, result)\n",
    "print(result[4].toString())\n",
    "len(result) "
   ]
  },
  {
   "cell_type": "code",
   "execution_count": null,
   "id": "58d35c45",
   "metadata": {},
   "outputs": [],
   "source": []
  }
 ],
 "metadata": {
  "kernelspec": {
   "display_name": "Python 3",
   "language": "python",
   "name": "python3"
  },
  "language_info": {
   "codemirror_mode": {
    "name": "ipython",
    "version": 3
   },
   "file_extension": ".py",
   "mimetype": "text/x-python",
   "name": "python",
   "nbconvert_exporter": "python",
   "pygments_lexer": "ipython3",
   "version": "3.8.8"
  }
 },
 "nbformat": 4,
 "nbformat_minor": 5
}

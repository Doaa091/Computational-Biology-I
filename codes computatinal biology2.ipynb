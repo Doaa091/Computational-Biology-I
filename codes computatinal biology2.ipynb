{
 "cells": [
  {
   "cell_type": "code",
   "execution_count": 23,
   "metadata": {},
   "outputs": [
    {
     "name": "stdout",
     "output_type": "stream",
     "text": [
      "DFPIANGER\n",
      "DFP\n",
      "GER\n",
      "DFGNOHCGK\n",
      "DFPIANGERDFGNOHCGK\n",
      "1017.4879641373001\n",
      "1019.5025170708421\n",
      "509.7512585354211\n"
     ]
    }
   ],
   "source": [
    "from pyopenms import*\n",
    "sequence=AASequence.fromString(\"DFPIANGER\")\n",
    "print(sequence)\n",
    "sequence_prefix=sequence.getPrefix(3)\n",
    "print(sequence_prefix)\n",
    "sequence_suffix=sequence.getSuffix(3)\n",
    "print(sequence_suffix)\n",
    "sequence2=AASequence.fromString(\"DFGNOHCGK\")\n",
    "print(sequence2)\n",
    "concatenate=sequence+sequence2\n",
    "print(concatenate)\n",
    "mass_full_peptide=sequence.getMonoWeight()\n",
    "print(mass_full_peptide)\n",
    "mprecursor = sequence.getMonoWeight(Residue.ResidueType.Full, 2)\n",
    "print(mprecursor)\n",
    "mz=sequence.getMonoWeight(Residue.ResidueType.Full,2)/2\n",
    "print(mz)\n"
   ]
  },
  {
   "cell_type": "code",
   "execution_count": 19,
   "metadata": {},
   "outputs": [
    {
     "name": "stdout",
     "output_type": "stream",
     "text": [
      "Aspartate :: 133.0375092233\n",
      "Phenylalanine :: 165.0789793509\n",
      "Proline :: 115.06332928709999\n",
      "Isoleucine :: 131.0946294147\n",
      "Alanine :: 89.0476792233\n",
      "Asparagine :: 132.0534932552\n",
      "Glycine :: 75.0320291595\n",
      "Glutamate :: 147.0531592871\n",
      "Arginine :: 174.1116764466\n"
     ]
    }
   ],
   "source": [
    "sequence=AASequence.fromString(\"DFPIANGER\")\n",
    "for Amino_Acid in sequence:\n",
    "    print(Amino_Acid.getName(),\":\",Amino_Acid.getMonoWeight())\n"
   ]
  },
  {
   "cell_type": "code",
   "execution_count": 48,
   "metadata": {},
   "outputs": [
    {
     "name": "stdout",
     "output_type": "stream",
     "text": [
      "the peptide formula is   C44H67N13O15\n",
      "Isotop 1017.4879641373001 has abundance 56.8165123462677 %\n",
      "Isotop 1018.4913189751001 has abundance 30.52913248538971 %\n",
      "Isotop 1019.4946738129 has abundance 9.802105277776718 %\n",
      "Isotop 1020.4980286507001 has abundance 2.3292062804102898 %\n",
      "Isotop 1021.5013834885001 has abundance 0.4492596257477999 %\n",
      "Isotop 1022.5047383263001 has abundance 0.07378292502835393 %\n",
      "########################################\n",
      "Isotop 1017.4879641373001 has abundance 56.80969953536987 %\n",
      "Isotop 1018.4849991373001 has abundance 2.7278145775198936 %\n",
      "Isotop 1018.4913191373001 has abundance 27.035287022590637 %\n",
      "Isotop 1018.4921811373001 has abundance 0.3246041014790535 %\n",
      "Isotop 1018.4942408854 has abundance 0.4377691075205803 %\n",
      "Isotop 1019.4883541373001 has abundance 1.2981452979147434 %\n",
      "Isotop 1019.4922181373001 has abundance 1.7511537298560143 %\n",
      "Isotop 1019.4946741373 has abundance 6.286735832691193 %\n",
      "Isotop 1019.4975958854001 has abundance 0.2083308296278119 %\n",
      "Isotop 1020.4917091373001 has abundance 0.3018683288246393 %\n",
      "Isotop 1020.4955731373002 has abundance 0.833360105752945 %\n",
      "Isotop 1020.4980291373 has abundance 0.9519387967884541 %\n",
      "Isotop 1021.4989281373 has abundance 0.1937880413606763 %\n"
     ]
    }
   ],
   "source": [
    "sequence=AASequence.fromString(\"DFPIANGER\")\n",
    "sequence_formula=sequence.getFormula()\n",
    "print(\"the peptide formula is  \",sequence_formula)\n",
    "coarse_isotopes =sequence_formula.getIsotopeDistribution( CoarseIsotopePatternGenerator(6) )\n",
    "for isotop in coarse_isotopes.getContainer():\n",
    "    print (\"Isotop\", isotop.getMZ(), \"has abundance\", isotop.getIntensity()*100, \"%\")\n",
    "print(\"#\"*40)    \n",
    "fine_isotopes = sequence_formula.getIsotopeDistribution( FineIsotopePatternGenerator(0.01) ) \n",
    "for isotop in fine_isotopes.getContainer():\n",
    "    print(\"Isotop\",isotop.getMZ(),\"has abundance\", isotop.getIntensity()*100, \"%\")"
   ]
  },
  {
   "cell_type": "code",
   "execution_count": 49,
   "metadata": {},
   "outputs": [
    {
     "name": "stdout",
     "output_type": "stream",
     "text": [
      "y3 molecular formula: C13H24N6O6\n",
      "y3 mz: 181.09514384957103\n"
     ]
    }
   ],
   "source": [
    "sequence=AASequence.fromString(\"DFPIANGER\")\n",
    "suffix = sequence.getSuffix(3)\n",
    "y3_formula = suffix.getFormula(Residue.ResidueType.YIon, 2)\n",
    "print(\"y3 molecular formula:\", y3_formula)\n",
    "print(\"y3 mz:\", suffix.getMonoWeight(Residue.ResidueType.YIon, 2) / 2.0 )"
   ]
  },
  {
   "cell_type": "code",
   "execution_count": 53,
   "metadata": {},
   "outputs": [
    {
     "name": "stdout",
     "output_type": "stream",
     "text": [
      "2\n",
      "BSA MKWVTFISLLLLFSSAYSRGVFRRDTHKSEIAHRFKDLGE\n",
      "ALB MKWVTFISLLFLFSSAYSRGVFRRDAHKSEVAHRFKDLGE\n"
     ]
    }
   ],
   "source": [
    "b= FASTAEntry()\n",
    "b.sequence = \"MKWVTFISLLLLFSSAYSRGVFRRDTHKSEIAHRFKDLGE\"\n",
    "b.description = \"BSA Bovine Albumin (partial sequence)\"\n",
    "b.identifier = \"BSA\"\n",
    "a= FASTAEntry()\n",
    "a.sequence = \"MKWVTFISLLFLFSSAYSRGVFRRDAHKSEVAHRFKDLGE\"\n",
    "a.description = \"ALB Human Albumin (partial sequence)\"\n",
    "a.identifier = \"ALB\"\n",
    "entries = [b, a]\n",
    "f = FASTAFile()\n",
    "f.store(\"exp.fasta\", entries)\n",
    "entries = []\n",
    "f = FASTAFile()\n",
    "f.load(\"exp.fasta\", entries)\n",
    "print( len(entries) )\n",
    "for e in entries:\n",
    "    print (e.identifier, e.sequence)\n",
    "   "
   ]
  },
  {
   "cell_type": "code",
   "execution_count": 24,
   "metadata": {},
   "outputs": [
    {
     "data": {
      "image/png": "[encoded data removed]",
      "text/plain": [
       "<Figure size 432x288 with 1 Axes>"
      ]
     },
     "metadata": {
      "needs_background": "light"
     },
     "output_type": "display_data"
    },
    {
     "data": {
      "image/png": "[encoded data removed]",
      "text/plain": [
       "<Figure size 720x504 with 1 Axes>"
      ]
     },
     "metadata": {
      "needs_background": "light"
     },
     "output_type": "display_data"
    },
    {
     "data": {
      "text/plain": [
       "<Figure size 720x504 with 0 Axes>"
      ]
     },
     "metadata": {},
     "output_type": "display_data"
    }
   ],
   "source": [
    " import math\n",
    " from matplotlib import pyplot as plt\n",
    " sequence=AASequence.fromString(\"DFPIANGER\")\n",
    " sequence_formula=sequence.getFormula()\n",
    " coarse_isotopes =sequence_formula.getIsotopeDistribution( CoarseIsotopePatternGenerator(6) )\n",
    " fine_isotopes = sequence_formula.getIsotopeDistribution( FineIsotopePatternGenerator(0.01) ) \n",
    " def plotIsotopeDistribution(isotope_distribution, title=\"Isotope distribution\"):\n",
    "     plt.title(title)\n",
    "     distribution = {\"mass\": [], \"abundance\": []}\n",
    "     for iso in isotope_distribution.getContainer():\n",
    "         distribution[\"mass\"].append(iso.getMZ())\n",
    "         distribution[\"abundance\"].append(iso.getIntensity() * 100)\n",
    "     bars = plt.bar(distribution[\"mass\"], distribution[\"abundance\"], width=0.01, snap=False) \n",
    "     plt.ylim([0, 110])   \n",
    "     plt.xticks(range(math.ceil(distribution[\"mass\"][0]) - 2,math.ceil(distribution[\"mass\"][-1]) + 2))\n",
    "     plt.xlabel(\"Atomic mass\")\n",
    "     plt.ylabel(\"Relative abundance (%)\")\n",
    "     plt.figure(figsize=(10,7))\n",
    "plt.subplot(1,2,1)\n",
    "plotIsotopeDistribution(coarse_isotopes, \"Isotope distribution - coarse\")\n",
    "plt.subplot(1,2,2)\n",
    "plotIsotopeDistribution(fine_isotopes, \"Isotope distribution - fine structure\")\n",
    "plt.show()"
   ]
  },
  {
   "cell_type": "code",
   "execution_count": 26,
   "metadata": {},
   "outputs": [
    {
     "name": "stdout",
     "output_type": "stream",
     "text": [
      "PEPTIDESEKUEMCER\n",
      "PEPTIDESEKUEM(Oxidation)CER\n",
      "PEPTIDESEKUEM(UniMod:35)CER\n",
      "PEPTIDESEKUEM[147]CER\n",
      "PEPTIDESEKUEM[147.03540001709996]CER\n",
      "DFPIAM(Oxidation)GER\n",
      "DFPIAM(Oxidation)GER\n",
      "DFPIAM(Oxidation)GER\n",
      "DFPIAM(Oxidation)GER\n",
      "DFPIAM(Oxidation)GER\n"
     ]
    }
   ],
   "source": [
    "seq = AASequence.fromString(\"PEPTIDESEKUEM(Oxidation)CER\")\n",
    "print(seq.toUnmodifiedString())\n",
    "print(seq.toString())\n",
    "print(seq.toUniModString())\n",
    "print(seq.toBracketString())\n",
    "print(seq.toBracketString(False)) \n",
    "print(AASequence.fromString(\"DFPIAM(UniMod:35)GER\"))\n",
    "print(AASequence.fromString(\"DFPIAM[+16]GER\"))\n",
    "print(AASequence.fromString(\"DFPIAM[+15.99]GER\"))\n",
    "print(AASequence.fromString(\"DFPIAM[147]GER\"))\n",
    "print(AASequence.fromString(\"DFPIAM[147.035405]GER\"))"
   ]
  },
  {
   "cell_type": "code",
   "execution_count": null,
   "metadata": {},
   "outputs": [],
   "source": []
  }
 ],
 "metadata": {
  "kernelspec": {
   "display_name": "Python 3",
   "language": "python",
   "name": "python3"
  },
  "language_info": {
   "codemirror_mode": {
    "name": "ipython",
    "version": 3
   },
   "file_extension": ".py",
   "mimetype": "text/x-python",
   "name": "python",
   "nbconvert_exporter": "python",
   "pygments_lexer": "ipython3",
   "version": "3.8.5"
  }
 },
 "nbformat": 4,
 "nbformat_minor": 4
}
